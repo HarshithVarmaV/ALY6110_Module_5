{
  "nbformat": 4,
  "nbformat_minor": 0,
  "metadata": {
    "colab": {
      "provenance": []
    },
    "kernelspec": {
      "name": "python3",
      "display_name": "Python 3"
    },
    "language_info": {
      "name": "python"
    }
  },
  "cells": [
    {
      "cell_type": "markdown",
      "source": [
        "# Mounting google drive"
      ],
      "metadata": {
        "id": "voxemNbpBkLq"
      }
    },
    {
      "cell_type": "code",
      "source": [
        "from google.colab import drive\n",
        "drive.mount('/content/drive')"
      ],
      "metadata": {
        "colab": {
          "base_uri": "https://localhost:8080/"
        },
        "id": "p_CD_GGHt2qE",
        "outputId": "46725295-1ba7-4576-d7bd-f2a7a014b3bd"
      },
      "execution_count": 1,
      "outputs": [
        {
          "output_type": "stream",
          "name": "stdout",
          "text": [
            "Drive already mounted at /content/drive; to attempt to forcibly remount, call drive.mount(\"/content/drive\", force_remount=True).\n"
          ]
        }
      ]
    },
    {
      "cell_type": "markdown",
      "source": [
        "# **Running Hive on Pyspark in Colab**\n",
        "\n",
        "Prepare PySpark Cluster"
      ],
      "metadata": {
        "id": "shjXEq-xBQWa"
      }
    },
    {
      "cell_type": "code",
      "execution_count": 2,
      "metadata": {
        "id": "15n_ZFOdtdaa"
      },
      "outputs": [],
      "source": [
        "# Install Java\n",
        "!apt-get install openjdk-8-jdk-headless -qq > /dev/null\n",
        "\n",
        "# Define the path to your Spark archive on Google Drive\n",
        "spark_archive_path = '/content/drive/MyDrive/Datasets/spark-3.0.0-bin-hadoop3.2.tgz'\n",
        "\n",
        "# Copy the Spark archive from Google Drive to your Colab environment\n",
        "!cp \"$spark_archive_path\" .\n",
        "\n",
        "# Extract the Spark archive (be sure to use the correct filename)\n",
        "!tar xf spark-3.0.0-bin-hadoop3.2.tgz\n",
        "\n",
        "# Set your Spark folder to your system path environment\n",
        "import os\n",
        "os.environ[\"JAVA_HOME\"] = \"/usr/lib/jvm/java-8-openjdk-amd64\"\n",
        "os.environ[\"SPARK_HOME\"] = \"/content/spark-3.0.0-bin-hadoop3.2\"\n",
        "\n",
        "# Install findspark using pip\n",
        "!pip install -q findspark"
      ]
    },
    {
      "cell_type": "markdown",
      "source": [
        "# Run a local spark session to test your installation"
      ],
      "metadata": {
        "id": "YUS5BzrLBeEw"
      }
    },
    {
      "cell_type": "code",
      "source": [
        "import findspark\n",
        "findspark.init()\n",
        "from pyspark.sql import SparkSession\n",
        "#spark = SparkSession.builder.master(\"local[*]\").getOrCreate()\n",
        "spark = SparkSession.builder.master(\"local[*]\").enableHiveSupport().getOrCreate()"
      ],
      "metadata": {
        "id": "0hXI6kOPtj_0"
      },
      "execution_count": 3,
      "outputs": []
    },
    {
      "cell_type": "markdown",
      "source": [
        "# Installed and imported required libraries"
      ],
      "metadata": {
        "id": "KdJ5hg-1Bxvp"
      }
    },
    {
      "cell_type": "code",
      "source": [
        "import pyspark\n",
        "from pyspark.sql.functions import countDistinct, col, mean\n",
        "from pyspark.sql import SparkSession\n",
        "from pyspark import SparkContext"
      ],
      "metadata": {
        "id": "mLE7NQF5tzc1"
      },
      "execution_count": 4,
      "outputs": []
    },
    {
      "cell_type": "code",
      "source": [
        "import matplotlib.pyplot as plt\n",
        "import pandas as pd\n",
        "import numpy as np\n",
        "from pyspark.sql.functions import col\n",
        "from pyspark.sql.types import StringType\n",
        "from pyspark.sql.functions import when"
      ],
      "metadata": {
        "id": "qLDCYyIst4Ej"
      },
      "execution_count": 5,
      "outputs": []
    },
    {
      "cell_type": "code",
      "source": [
        "import pandas as pd\n",
        "import seaborn as sns\n",
        "import matplotlib.pyplot as plt\n",
        "from sklearn.metrics import confusion_matrix\n",
        "\n",
        "from pyspark.sql import SparkSession\n",
        "from pyspark.ml import Pipeline\n",
        "from pyspark.ml.feature import StringIndexer, OneHotEncoder, VectorAssembler, VectorIndexer\n",
        "from pyspark.sql.functions import col\n",
        "from pyspark.ml.classification import LogisticRegression, DecisionTreeClassifier, RandomForestClassifier, GBTClassifier, LinearSVC, FMClassifier, NaiveBayes\n",
        "from pyspark.ml.evaluation import BinaryClassificationEvaluator, MulticlassClassificationEvaluator"
      ],
      "metadata": {
        "id": "97KqQ_9rSRxr"
      },
      "execution_count": 6,
      "outputs": []
    },
    {
      "cell_type": "markdown",
      "source": [
        "# Load bank data to Spark Cluster"
      ],
      "metadata": {
        "id": "JN_K-gzyB7Qp"
      }
    },
    {
      "cell_type": "code",
      "source": [
        "bh = spark.read.option(\"inferSchema\", \"true\").csv('/content/drive/MyDrive/Datasets/BostonHousing.csv', header=True)"
      ],
      "metadata": {
        "id": "rsgjW87kt_DU"
      },
      "execution_count": 7,
      "outputs": []
    },
    {
      "cell_type": "code",
      "source": [
        "bh.printSchema()"
      ],
      "metadata": {
        "colab": {
          "base_uri": "https://localhost:8080/"
        },
        "id": "BCEqZ_PNvQtv",
        "outputId": "a65ecb65-d407-4d89-e98b-67c42197b41f"
      },
      "execution_count": 8,
      "outputs": [
        {
          "output_type": "stream",
          "name": "stdout",
          "text": [
            "root\n",
            " |-- crim: double (nullable = true)\n",
            " |-- zn: double (nullable = true)\n",
            " |-- indus: double (nullable = true)\n",
            " |-- chas: integer (nullable = true)\n",
            " |-- nox: double (nullable = true)\n",
            " |-- rm: double (nullable = true)\n",
            " |-- age: double (nullable = true)\n",
            " |-- dis: double (nullable = true)\n",
            " |-- rad: integer (nullable = true)\n",
            " |-- tax: integer (nullable = true)\n",
            " |-- ptratio: double (nullable = true)\n",
            " |-- b: double (nullable = true)\n",
            " |-- lstat: double (nullable = true)\n",
            " |-- medv: double (nullable = true)\n",
            "\n"
          ]
        }
      ]
    },
    {
      "cell_type": "code",
      "source": [
        "print(f\"Total number of observations: {bh.count()}\")\n",
        "print(f\"Total number of variables: {len(bh.columns)}\")"
      ],
      "metadata": {
        "colab": {
          "base_uri": "https://localhost:8080/"
        },
        "id": "YrNhxdqlYlev",
        "outputId": "94321b52-7946-4d11-e1a0-35dfca15173c"
      },
      "execution_count": 9,
      "outputs": [
        {
          "output_type": "stream",
          "name": "stdout",
          "text": [
            "Total number of observations: 506\n",
            "Total number of variables: 14\n"
          ]
        }
      ]
    },
    {
      "cell_type": "markdown",
      "source": [
        "# Displaying top 5 rows"
      ],
      "metadata": {
        "id": "VN2oPVWioSo1"
      }
    },
    {
      "cell_type": "code",
      "source": [
        "bh.show(5)"
      ],
      "metadata": {
        "colab": {
          "base_uri": "https://localhost:8080/"
        },
        "id": "CZwZWMEnieVn",
        "outputId": "734703a0-0c8c-4470-b9a4-0c5e39a92650"
      },
      "execution_count": 10,
      "outputs": [
        {
          "output_type": "stream",
          "name": "stdout",
          "text": [
            "+-------+----+-----+----+-----+-----+----+------+---+---+-------+------+-----+----+\n",
            "|   crim|  zn|indus|chas|  nox|   rm| age|   dis|rad|tax|ptratio|     b|lstat|medv|\n",
            "+-------+----+-----+----+-----+-----+----+------+---+---+-------+------+-----+----+\n",
            "|0.00632|18.0| 2.31|   0|0.538|6.575|65.2|  4.09|  1|296|   15.3| 396.9| 4.98|24.0|\n",
            "|0.02731| 0.0| 7.07|   0|0.469|6.421|78.9|4.9671|  2|242|   17.8| 396.9| 9.14|21.6|\n",
            "|0.02729| 0.0| 7.07|   0|0.469|7.185|61.1|4.9671|  2|242|   17.8|392.83| 4.03|34.7|\n",
            "|0.03237| 0.0| 2.18|   0|0.458|6.998|45.8|6.0622|  3|222|   18.7|394.63| 2.94|33.4|\n",
            "|0.06905| 0.0| 2.18|   0|0.458|7.147|54.2|6.0622|  3|222|   18.7| 396.9| 5.33|36.2|\n",
            "+-------+----+-----+----+-----+-----+----+------+---+---+-------+------+-----+----+\n",
            "only showing top 5 rows\n",
            "\n"
          ]
        }
      ]
    },
    {
      "cell_type": "markdown",
      "source": [
        "# Combine features into a single vector column excluding 'medv' as it is a target variable"
      ],
      "metadata": {
        "id": "h4glCO0MirC4"
      }
    },
    {
      "cell_type": "code",
      "source": [
        "# Combine features into a single vector column\n",
        "# feature_columns = bh.columns[:-1] # Exclude the target column 'medv'\n",
        "# Assuming 'medv' is the target column\n",
        "feature_columns = [col_name for col_name in bh.columns if col_name != 'medv']\n",
        "assembler = VectorAssembler(inputCols=feature_columns, outputCol=\"features\")\n",
        "bh_feat = assembler.transform(bh).select('features')"
      ],
      "metadata": {
        "id": "5KNBNOVviqOR"
      },
      "execution_count": 11,
      "outputs": []
    },
    {
      "cell_type": "code",
      "source": [
        "bh_feat.show(5)"
      ],
      "metadata": {
        "colab": {
          "base_uri": "https://localhost:8080/"
        },
        "id": "qM3v2thhoW92",
        "outputId": "d1c5d51f-258d-4743-832b-f358acc2c9d5"
      },
      "execution_count": 12,
      "outputs": [
        {
          "output_type": "stream",
          "name": "stdout",
          "text": [
            "+--------------------+\n",
            "|            features|\n",
            "+--------------------+\n",
            "|[0.00632,18.0,2.3...|\n",
            "|[0.02731,0.0,7.07...|\n",
            "|[0.02729,0.0,7.07...|\n",
            "|[0.03237,0.0,2.18...|\n",
            "|[0.06905,0.0,2.18...|\n",
            "+--------------------+\n",
            "only showing top 5 rows\n",
            "\n"
          ]
        }
      ]
    },
    {
      "cell_type": "markdown",
      "source": [
        "# Standardize features for principal component analysis"
      ],
      "metadata": {
        "id": "KXFS1AT_C_t2"
      }
    },
    {
      "cell_type": "code",
      "source": [
        "from pyspark.ml.feature import StandardScaler\n",
        "\n",
        "# Standardize the features\n",
        "scaler = StandardScaler(inputCol=\"features\", outputCol=\"scaled_features\", withStd=True, withMean=True)\n",
        "scaler_model = scaler.fit(bh_feat)\n",
        "bh_stnd = scaler_model.transform(bh_feat)"
      ],
      "metadata": {
        "id": "7uCxFyz-pDUc"
      },
      "execution_count": 13,
      "outputs": []
    },
    {
      "cell_type": "code",
      "source": [
        "bh_stnd.show(5)"
      ],
      "metadata": {
        "colab": {
          "base_uri": "https://localhost:8080/"
        },
        "id": "0R9svyVdpDWv",
        "outputId": "05525f8a-96b9-43f5-9c2d-03dfac24dddf"
      },
      "execution_count": 15,
      "outputs": [
        {
          "output_type": "stream",
          "name": "stdout",
          "text": [
            "+--------------------+--------------------+\n",
            "|            features|     scaled_features|\n",
            "+--------------------+--------------------+\n",
            "|[0.00632,18.0,2.3...|[-0.4193669292132...|\n",
            "|[0.02731,0.0,7.07...|[-0.4169266699640...|\n",
            "|[0.02729,0.0,7.07...|[-0.4169289951277...|\n",
            "|[0.03237,0.0,2.18...|[-0.4163384035610...|\n",
            "|[0.06905,0.0,2.18...|[-0.4120740534296...|\n",
            "+--------------------+--------------------+\n",
            "only showing top 5 rows\n",
            "\n"
          ]
        }
      ]
    },
    {
      "cell_type": "markdown",
      "source": [
        "# Train model for two principal component analysis"
      ],
      "metadata": {
        "id": "LjiieEMMrE7p"
      }
    },
    {
      "cell_type": "code",
      "source": [
        "from pyspark.ml.feature import PCA\n",
        "\n",
        "# Train a model for two principal components\n",
        "pca = PCA(k=2, inputCol=\"scaled_features\", outputCol=\"pca_features\")\n",
        "pca_model = pca.fit(bh_stnd)\n",
        "bh_pca = pca_model.transform(bh_stnd)"
      ],
      "metadata": {
        "id": "KvkvnbKtpDZF"
      },
      "execution_count": 16,
      "outputs": []
    },
    {
      "cell_type": "code",
      "source": [
        "# Print explained variance ratio\n",
        "print('Explained Variance Ratio:', pca_model.explainedVariance.toArray())\n",
        "\n",
        "bh_pca.show(5)"
      ],
      "metadata": {
        "colab": {
          "base_uri": "https://localhost:8080/"
        },
        "id": "8CWVzEPDpDbK",
        "outputId": "0c76b97e-f761-4094-e4f0-73297ddfe187"
      },
      "execution_count": 17,
      "outputs": [
        {
          "output_type": "stream",
          "name": "stdout",
          "text": [
            "Explained Variance Ratio: [0.47129606 0.11025193]\n",
            "+--------------------+--------------------+--------------------+\n",
            "|            features|     scaled_features|        pca_features|\n",
            "+--------------------+--------------------+--------------------+\n",
            "|[0.00632,18.0,2.3...|[-0.4193669292132...|[2.09622303023858...|\n",
            "|[0.02731,0.0,7.07...|[-0.4169266699640...|[1.45581098944742...|\n",
            "|[0.02729,0.0,7.07...|[-0.4169289951277...|[2.07254655194818...|\n",
            "|[0.03237,0.0,2.18...|[-0.4163384035610...|[2.60892175886434...|\n",
            "|[0.06905,0.0,2.18...|[-0.4120740534296...|[2.45575477193107...|\n",
            "+--------------------+--------------------+--------------------+\n",
            "only showing top 5 rows\n",
            "\n"
          ]
        }
      ]
    },
    {
      "cell_type": "markdown",
      "source": [
        "# Collect distributed data in numpy array and then convert to pandas dataframe"
      ],
      "metadata": {
        "id": "ea0536iP5-xf"
      }
    },
    {
      "cell_type": "code",
      "source": [
        "#Collect distributed data in numpy array and then convert to pandas dataframe\n",
        "\n",
        "bh_np_pca = bh_pca.rdd.map(lambda row: row.pca_features).collect()\n",
        "bh_np_pca = np.array(bh_np_pca)\n",
        "bh_np_pca"
      ],
      "metadata": {
        "colab": {
          "base_uri": "https://localhost:8080/"
        },
        "id": "XZ4BrfdfpDdx",
        "outputId": "f3edff6d-49f9-4b0c-de7c-1ca5a8d39575"
      },
      "execution_count": 19,
      "outputs": [
        {
          "output_type": "execute_result",
          "data": {
            "text/plain": [
              "array([[2.09622303, 0.77234843],\n",
              "       [1.45581099, 0.59139995],\n",
              "       [2.07254655, 0.59904658],\n",
              "       ...,\n",
              "       [0.31205166, 1.15410433],\n",
              "       [0.27025162, 1.04033206],\n",
              "       [0.12567884, 0.76122473]])"
            ]
          },
          "metadata": {},
          "execution_count": 19
        }
      ]
    },
    {
      "cell_type": "code",
      "source": [
        "#Convert Array to DataFrame\n",
        "bh_pca = pd.DataFrame(bh_np_pca,columns = ['PC1','PC2'])\n",
        "bh_pca.head()"
      ],
      "metadata": {
        "colab": {
          "base_uri": "https://localhost:8080/",
          "height": 206
        },
        "id": "cBPLKjWKpDgH",
        "outputId": "a59bd923-dec4-4703-cc81-ddf5dda68772"
      },
      "execution_count": 20,
      "outputs": [
        {
          "output_type": "execute_result",
          "data": {
            "text/plain": [
              "        PC1       PC2\n",
              "0  2.096223  0.772348\n",
              "1  1.455811  0.591400\n",
              "2  2.072547  0.599047\n",
              "3  2.608922 -0.006864\n",
              "4  2.455755  0.097615"
            ],
            "text/html": [
              "\n",
              "  <div id=\"df-2f0e27ef-c94b-488e-819c-e0a8a3ed807a\" class=\"colab-df-container\">\n",
              "    <div>\n",
              "<style scoped>\n",
              "    .dataframe tbody tr th:only-of-type {\n",
              "        vertical-align: middle;\n",
              "    }\n",
              "\n",
              "    .dataframe tbody tr th {\n",
              "        vertical-align: top;\n",
              "    }\n",
              "\n",
              "    .dataframe thead th {\n",
              "        text-align: right;\n",
              "    }\n",
              "</style>\n",
              "<table border=\"1\" class=\"dataframe\">\n",
              "  <thead>\n",
              "    <tr style=\"text-align: right;\">\n",
              "      <th></th>\n",
              "      <th>PC1</th>\n",
              "      <th>PC2</th>\n",
              "    </tr>\n",
              "  </thead>\n",
              "  <tbody>\n",
              "    <tr>\n",
              "      <th>0</th>\n",
              "      <td>2.096223</td>\n",
              "      <td>0.772348</td>\n",
              "    </tr>\n",
              "    <tr>\n",
              "      <th>1</th>\n",
              "      <td>1.455811</td>\n",
              "      <td>0.591400</td>\n",
              "    </tr>\n",
              "    <tr>\n",
              "      <th>2</th>\n",
              "      <td>2.072547</td>\n",
              "      <td>0.599047</td>\n",
              "    </tr>\n",
              "    <tr>\n",
              "      <th>3</th>\n",
              "      <td>2.608922</td>\n",
              "      <td>-0.006864</td>\n",
              "    </tr>\n",
              "    <tr>\n",
              "      <th>4</th>\n",
              "      <td>2.455755</td>\n",
              "      <td>0.097615</td>\n",
              "    </tr>\n",
              "  </tbody>\n",
              "</table>\n",
              "</div>\n",
              "    <div class=\"colab-df-buttons\">\n",
              "\n",
              "  <div class=\"colab-df-container\">\n",
              "    <button class=\"colab-df-convert\" onclick=\"convertToInteractive('df-2f0e27ef-c94b-488e-819c-e0a8a3ed807a')\"\n",
              "            title=\"Convert this dataframe to an interactive table.\"\n",
              "            style=\"display:none;\">\n",
              "\n",
              "  <svg xmlns=\"http://www.w3.org/2000/svg\" height=\"24px\" viewBox=\"0 -960 960 960\">\n",
              "    <path d=\"M120-120v-720h720v720H120Zm60-500h600v-160H180v160Zm220 220h160v-160H400v160Zm0 220h160v-160H400v160ZM180-400h160v-160H180v160Zm440 0h160v-160H620v160ZM180-180h160v-160H180v160Zm440 0h160v-160H620v160Z\"/>\n",
              "  </svg>\n",
              "    </button>\n",
              "\n",
              "  <style>\n",
              "    .colab-df-container {\n",
              "      display:flex;\n",
              "      gap: 12px;\n",
              "    }\n",
              "\n",
              "    .colab-df-convert {\n",
              "      background-color: #E8F0FE;\n",
              "      border: none;\n",
              "      border-radius: 50%;\n",
              "      cursor: pointer;\n",
              "      display: none;\n",
              "      fill: #1967D2;\n",
              "      height: 32px;\n",
              "      padding: 0 0 0 0;\n",
              "      width: 32px;\n",
              "    }\n",
              "\n",
              "    .colab-df-convert:hover {\n",
              "      background-color: #E2EBFA;\n",
              "      box-shadow: 0px 1px 2px rgba(60, 64, 67, 0.3), 0px 1px 3px 1px rgba(60, 64, 67, 0.15);\n",
              "      fill: #174EA6;\n",
              "    }\n",
              "\n",
              "    .colab-df-buttons div {\n",
              "      margin-bottom: 4px;\n",
              "    }\n",
              "\n",
              "    [theme=dark] .colab-df-convert {\n",
              "      background-color: #3B4455;\n",
              "      fill: #D2E3FC;\n",
              "    }\n",
              "\n",
              "    [theme=dark] .colab-df-convert:hover {\n",
              "      background-color: #434B5C;\n",
              "      box-shadow: 0px 1px 3px 1px rgba(0, 0, 0, 0.15);\n",
              "      filter: drop-shadow(0px 1px 2px rgba(0, 0, 0, 0.3));\n",
              "      fill: #FFFFFF;\n",
              "    }\n",
              "  </style>\n",
              "\n",
              "    <script>\n",
              "      const buttonEl =\n",
              "        document.querySelector('#df-2f0e27ef-c94b-488e-819c-e0a8a3ed807a button.colab-df-convert');\n",
              "      buttonEl.style.display =\n",
              "        google.colab.kernel.accessAllowed ? 'block' : 'none';\n",
              "\n",
              "      async function convertToInteractive(key) {\n",
              "        const element = document.querySelector('#df-2f0e27ef-c94b-488e-819c-e0a8a3ed807a');\n",
              "        const dataTable =\n",
              "          await google.colab.kernel.invokeFunction('convertToInteractive',\n",
              "                                                    [key], {});\n",
              "        if (!dataTable) return;\n",
              "\n",
              "        const docLinkHtml = 'Like what you see? Visit the ' +\n",
              "          '<a target=\"_blank\" href=https://colab.research.google.com/notebooks/data_table.ipynb>data table notebook</a>'\n",
              "          + ' to learn more about interactive tables.';\n",
              "        element.innerHTML = '';\n",
              "        dataTable['output_type'] = 'display_data';\n",
              "        await google.colab.output.renderOutput(dataTable, element);\n",
              "        const docLink = document.createElement('div');\n",
              "        docLink.innerHTML = docLinkHtml;\n",
              "        element.appendChild(docLink);\n",
              "      }\n",
              "    </script>\n",
              "  </div>\n",
              "\n",
              "\n",
              "<div id=\"df-79c20913-a17d-4ecf-a3f6-174216e0de50\">\n",
              "  <button class=\"colab-df-quickchart\" onclick=\"quickchart('df-79c20913-a17d-4ecf-a3f6-174216e0de50')\"\n",
              "            title=\"Suggest charts.\"\n",
              "            style=\"display:none;\">\n",
              "\n",
              "<svg xmlns=\"http://www.w3.org/2000/svg\" height=\"24px\"viewBox=\"0 0 24 24\"\n",
              "     width=\"24px\">\n",
              "    <g>\n",
              "        <path d=\"M19 3H5c-1.1 0-2 .9-2 2v14c0 1.1.9 2 2 2h14c1.1 0 2-.9 2-2V5c0-1.1-.9-2-2-2zM9 17H7v-7h2v7zm4 0h-2V7h2v10zm4 0h-2v-4h2v4z\"/>\n",
              "    </g>\n",
              "</svg>\n",
              "  </button>\n",
              "\n",
              "<style>\n",
              "  .colab-df-quickchart {\n",
              "      --bg-color: #E8F0FE;\n",
              "      --fill-color: #1967D2;\n",
              "      --hover-bg-color: #E2EBFA;\n",
              "      --hover-fill-color: #174EA6;\n",
              "      --disabled-fill-color: #AAA;\n",
              "      --disabled-bg-color: #DDD;\n",
              "  }\n",
              "\n",
              "  [theme=dark] .colab-df-quickchart {\n",
              "      --bg-color: #3B4455;\n",
              "      --fill-color: #D2E3FC;\n",
              "      --hover-bg-color: #434B5C;\n",
              "      --hover-fill-color: #FFFFFF;\n",
              "      --disabled-bg-color: #3B4455;\n",
              "      --disabled-fill-color: #666;\n",
              "  }\n",
              "\n",
              "  .colab-df-quickchart {\n",
              "    background-color: var(--bg-color);\n",
              "    border: none;\n",
              "    border-radius: 50%;\n",
              "    cursor: pointer;\n",
              "    display: none;\n",
              "    fill: var(--fill-color);\n",
              "    height: 32px;\n",
              "    padding: 0;\n",
              "    width: 32px;\n",
              "  }\n",
              "\n",
              "  .colab-df-quickchart:hover {\n",
              "    background-color: var(--hover-bg-color);\n",
              "    box-shadow: 0 1px 2px rgba(60, 64, 67, 0.3), 0 1px 3px 1px rgba(60, 64, 67, 0.15);\n",
              "    fill: var(--button-hover-fill-color);\n",
              "  }\n",
              "\n",
              "  .colab-df-quickchart-complete:disabled,\n",
              "  .colab-df-quickchart-complete:disabled:hover {\n",
              "    background-color: var(--disabled-bg-color);\n",
              "    fill: var(--disabled-fill-color);\n",
              "    box-shadow: none;\n",
              "  }\n",
              "\n",
              "  .colab-df-spinner {\n",
              "    border: 2px solid var(--fill-color);\n",
              "    border-color: transparent;\n",
              "    border-bottom-color: var(--fill-color);\n",
              "    animation:\n",
              "      spin 1s steps(1) infinite;\n",
              "  }\n",
              "\n",
              "  @keyframes spin {\n",
              "    0% {\n",
              "      border-color: transparent;\n",
              "      border-bottom-color: var(--fill-color);\n",
              "      border-left-color: var(--fill-color);\n",
              "    }\n",
              "    20% {\n",
              "      border-color: transparent;\n",
              "      border-left-color: var(--fill-color);\n",
              "      border-top-color: var(--fill-color);\n",
              "    }\n",
              "    30% {\n",
              "      border-color: transparent;\n",
              "      border-left-color: var(--fill-color);\n",
              "      border-top-color: var(--fill-color);\n",
              "      border-right-color: var(--fill-color);\n",
              "    }\n",
              "    40% {\n",
              "      border-color: transparent;\n",
              "      border-right-color: var(--fill-color);\n",
              "      border-top-color: var(--fill-color);\n",
              "    }\n",
              "    60% {\n",
              "      border-color: transparent;\n",
              "      border-right-color: var(--fill-color);\n",
              "    }\n",
              "    80% {\n",
              "      border-color: transparent;\n",
              "      border-right-color: var(--fill-color);\n",
              "      border-bottom-color: var(--fill-color);\n",
              "    }\n",
              "    90% {\n",
              "      border-color: transparent;\n",
              "      border-bottom-color: var(--fill-color);\n",
              "    }\n",
              "  }\n",
              "</style>\n",
              "\n",
              "  <script>\n",
              "    async function quickchart(key) {\n",
              "      const quickchartButtonEl =\n",
              "        document.querySelector('#' + key + ' button');\n",
              "      quickchartButtonEl.disabled = true;  // To prevent multiple clicks.\n",
              "      quickchartButtonEl.classList.add('colab-df-spinner');\n",
              "      try {\n",
              "        const charts = await google.colab.kernel.invokeFunction(\n",
              "            'suggestCharts', [key], {});\n",
              "      } catch (error) {\n",
              "        console.error('Error during call to suggestCharts:', error);\n",
              "      }\n",
              "      quickchartButtonEl.classList.remove('colab-df-spinner');\n",
              "      quickchartButtonEl.classList.add('colab-df-quickchart-complete');\n",
              "    }\n",
              "    (() => {\n",
              "      let quickchartButtonEl =\n",
              "        document.querySelector('#df-79c20913-a17d-4ecf-a3f6-174216e0de50 button');\n",
              "      quickchartButtonEl.style.display =\n",
              "        google.colab.kernel.accessAllowed ? 'block' : 'none';\n",
              "    })();\n",
              "  </script>\n",
              "</div>\n",
              "    </div>\n",
              "  </div>\n"
            ]
          },
          "metadata": {},
          "execution_count": 20
        }
      ]
    },
    {
      "cell_type": "markdown",
      "source": [
        "# Plot two principal components"
      ],
      "metadata": {
        "id": "rx70vFLk779V"
      }
    },
    {
      "cell_type": "code",
      "source": [
        "#Plot two principal components\n",
        "import matplotlib.pyplot as plt\n",
        "\n",
        "# Create a scatter plot\n",
        "plt.figure(figsize=(8, 6))\n",
        "plt.scatter(bh_pca['PC1'], bh_pca['PC2'], alpha=0.4)\n",
        "# alpha parameter is used to control the transparency or opacity of the markers (points) in the scatter plot.\n",
        "plt.xlabel('PC1')\n",
        "plt.ylabel('PC2')\n",
        "plt.title('Principal Component Analysis values of Boston Housing Data')\n",
        "\n",
        "# Show the plot\n",
        "plt.show()"
      ],
      "metadata": {
        "colab": {
          "base_uri": "https://localhost:8080/",
          "height": 564
        },
        "id": "DuGeU_h0pDiN",
        "outputId": "d2c03a8b-a484-4338-db18-a68174c22f16"
      },
      "execution_count": 25,
      "outputs": [
        {
          "output_type": "display_data",
          "data": {
            "text/plain": [
              "<Figure size 800x600 with 1 Axes>"
            ],
            "image/png": "[encoded data removed]"
          },
          "metadata": {}
        }
      ]
    },
    {
      "cell_type": "markdown",
      "source": [
        "# Vectorize features and target together for model development"
      ],
      "metadata": {
        "id": "QlpoHQlH9MRg"
      }
    },
    {
      "cell_type": "code",
      "source": [
        "#Vectorize features and target together for model development\n",
        "\n",
        "# Use the VectorAssembler to transform your DataFrame\n",
        "assembled_bh = assembler.transform(bh)\n",
        "\n",
        "# Select the relevant columns (features and target)\n",
        "assembled_bh = assembled_bh.select(\"features\", \"medv\")\n",
        "\n",
        "# Show the resulting DataFrame\n",
        "assembled_bh.show()"
      ],
      "metadata": {
        "colab": {
          "base_uri": "https://localhost:8080/"
        },
        "id": "eTSaItQC9Nw2",
        "outputId": "37a14fac-6c69-46d8-dcd6-164a09973271"
      },
      "execution_count": 26,
      "outputs": [
        {
          "output_type": "stream",
          "name": "stdout",
          "text": [
            "+--------------------+----+\n",
            "|            features|medv|\n",
            "+--------------------+----+\n",
            "|[0.00632,18.0,2.3...|24.0|\n",
            "|[0.02731,0.0,7.07...|21.6|\n",
            "|[0.02729,0.0,7.07...|34.7|\n",
            "|[0.03237,0.0,2.18...|33.4|\n",
            "|[0.06905,0.0,2.18...|36.2|\n",
            "|[0.02985,0.0,2.18...|28.7|\n",
            "|[0.08829,12.5,7.8...|22.9|\n",
            "|[0.14455,12.5,7.8...|27.1|\n",
            "|[0.21124,12.5,7.8...|16.5|\n",
            "|[0.17004,12.5,7.8...|18.9|\n",
            "|[0.22489,12.5,7.8...|15.0|\n",
            "|[0.11747,12.5,7.8...|18.9|\n",
            "|[0.09378,12.5,7.8...|21.7|\n",
            "|[0.62976,0.0,8.14...|20.4|\n",
            "|[0.63796,0.0,8.14...|18.2|\n",
            "|[0.62739,0.0,8.14...|19.9|\n",
            "|[1.05393,0.0,8.14...|23.1|\n",
            "|[0.7842,0.0,8.14,...|17.5|\n",
            "|[0.80271,0.0,8.14...|20.2|\n",
            "|[0.7258,0.0,8.14,...|18.2|\n",
            "+--------------------+----+\n",
            "only showing top 20 rows\n",
            "\n"
          ]
        }
      ]
    },
    {
      "cell_type": "markdown",
      "source": [
        "# Split dataset into training and testing dataset"
      ],
      "metadata": {
        "id": "RC3GnvpD9hWb"
      }
    },
    {
      "cell_type": "code",
      "source": [
        "#Split dataset into training and testing dataset\n",
        "\n",
        "# The randomSplit function is used to split the assembled_bh DataFrame into two separate DataFrames: train and test,\n",
        "# with a 75/25 split ratio by default. In this context, the split ratio means that approximately 75% of the data will\n",
        "# go into the train DataFrame, and the remaining 25% will go into the test DataFrame.\n",
        "\n",
        "# The seed is a random number generator seed, and setting it ensures that the same split is generated each time you\n",
        "# run the code with the same seed.\n",
        "\n",
        "train,test = assembled_bh.randomSplit([0.75,0.25], seed=88)\n",
        "print(\"Training Dataset Count: \" + str(train.count()))\n",
        "print(\"Test Dataset Count: \" + str(test.count()))"
      ],
      "metadata": {
        "colab": {
          "base_uri": "https://localhost:8080/"
        },
        "id": "z3YyEF7W9Nzc",
        "outputId": "41ebc548-641b-4b57-aaae-7afd2e061a0a"
      },
      "execution_count": 34,
      "outputs": [
        {
          "output_type": "stream",
          "name": "stdout",
          "text": [
            "Training Dataset Count: 366\n",
            "Test Dataset Count: 140\n"
          ]
        }
      ]
    },
    {
      "cell_type": "markdown",
      "source": [
        "# Fit model for linear regression"
      ],
      "metadata": {
        "id": "zn6AKc1z-p5L"
      }
    },
    {
      "cell_type": "code",
      "source": [
        "# Fit a linear regression model\n",
        "from pyspark.ml.regression import LinearRegression\n",
        "\n",
        "lr = LinearRegression(featuresCol=\"features\", labelCol=\"medv\")\n",
        "lr_model = lr.fit(train)"
      ],
      "metadata": {
        "id": "jV5fjIJv9N1r"
      },
      "execution_count": 36,
      "outputs": []
    },
    {
      "cell_type": "markdown",
      "source": [
        "# Find out model coefficients and intercept"
      ],
      "metadata": {
        "id": "MqnIfaXT_Z85"
      }
    },
    {
      "cell_type": "code",
      "source": [
        "# Find model coefficients and intercept\n",
        "coefficients = lr_model.coefficients\n",
        "intercept = lr_model.intercept\n",
        "\n",
        "print(\"Model Coefficients: \", coefficients)\n",
        "print(\"Intercept: \", intercept)"
      ],
      "metadata": {
        "colab": {
          "base_uri": "https://localhost:8080/"
        },
        "id": "slbtBRAG9N4R",
        "outputId": "3610c633-5678-4ccb-cf7b-953932c707e9"
      },
      "execution_count": 37,
      "outputs": [
        {
          "output_type": "stream",
          "name": "stdout",
          "text": [
            "Model Coefficients:  [-0.10407530192769977,0.030488864066990105,0.06677549967557365,2.8251966835827247,-15.555855930088768,4.798093803312706,-0.005750856587675065,-1.213888926679425,0.2426319757245109,-0.010346340429426443,-1.0061379777419523,0.009668697061085843,-0.47021661333629466]\n",
            "Intercept:  27.934577848298957\n"
          ]
        }
      ]
    },
    {
      "cell_type": "markdown",
      "source": [
        "# Evaluate model for test dataset"
      ],
      "metadata": {
        "id": "IFeljY9-_rzj"
      }
    },
    {
      "cell_type": "code",
      "source": [
        "from pyspark.ml.evaluation import RegressionEvaluator\n",
        "\n",
        "# Assuming you have a test dataset named 'test_data'\n",
        "pred = lr_model.evaluate(test)\n",
        "\n",
        "# Predcit Model\n",
        "pred.predictions.show()"
      ],
      "metadata": {
        "colab": {
          "base_uri": "https://localhost:8080/"
        },
        "id": "Vze0bFkm9N81",
        "outputId": "47ef61bd-7a95-4502-f26f-54fa2db737a2"
      },
      "execution_count": 38,
      "outputs": [
        {
          "output_type": "stream",
          "name": "stdout",
          "text": [
            "+--------------------+----+------------------+\n",
            "|            features|medv|        prediction|\n",
            "+--------------------+----+------------------+\n",
            "|[0.00632,18.0,2.3...|24.0|29.757657034897825|\n",
            "|[0.01301,35.0,1.5...|32.7|31.086660541754867|\n",
            "|[0.02009,95.0,2.6...|50.0| 42.97145067708841|\n",
            "|[0.03049,55.0,3.7...|31.2|28.564340824728617|\n",
            "|[0.03306,0.0,5.19...|20.6| 21.68231001505269|\n",
            "|[0.0351,95.0,2.68...|48.5|41.678217158886355|\n",
            "|[0.03551,25.0,4.8...|22.9| 24.34850531319431|\n",
            "|[0.03659,25.0,4.8...|24.8|25.511520163974797|\n",
            "|[0.03768,80.0,1.5...|34.6| 35.07866917061201|\n",
            "|[0.03932,0.0,3.41...|22.0|26.836548600440548|\n",
            "|[0.03961,0.0,5.19...|21.1| 20.41061607314461|\n",
            "|[0.0456,0.0,13.89...|23.3| 26.58034908788906|\n",
            "|[0.0459,52.5,5.32...|22.3| 26.72732869546646|\n",
            "|[0.04981,21.0,5.6...|23.4| 23.92769146603171|\n",
            "|[0.05083,0.0,5.19...|22.2|22.179209361657918|\n",
            "|[0.05302,0.0,3.41...|28.7|30.939599416386404|\n",
            "|[0.05425,0.0,4.05...|24.6|28.432685733111757|\n",
            "|[0.05602,0.0,2.46...|50.0| 36.40946360984826|\n",
            "|[0.05644,40.0,6.4...|32.4| 35.54674993434918|\n",
            "|[0.05646,0.0,12.8...|21.2|21.707909232134284|\n",
            "+--------------------+----+------------------+\n",
            "only showing top 20 rows\n",
            "\n"
          ]
        }
      ]
    },
    {
      "cell_type": "code",
      "source": [
        "from pyspark.ml.evaluation import RegressionEvaluator\n",
        "#Evaluate model for test dataset\n",
        "\n",
        "eval = RegressionEvaluator(labelCol=\"medv\",predictionCol= \"prediction\", metricName= \"rmse\")\n",
        "\n",
        "#RMSE\n",
        "rmse = eval.evaluate(pred.predictions)\n",
        "print(\"RMSE: %.3f\" % rmse)\n",
        "\n",
        "#MSE\n",
        "mse = eval.evaluate(pred.predictions,{eval.metricName:\"mse\"})\n",
        "print(\"MSE: %.3f\" % mse)\n",
        "\n",
        "#MAE\n",
        "mae = eval.evaluate(pred.predictions,{eval.metricName:\"mae\"})\n",
        "print(\"MAE: %.3f\" % mae)\n",
        "\n",
        "#R2\n",
        "r2 = eval.evaluate(pred.predictions,{eval.metricName:\"r2\"})\n",
        "print(\"R2: %.3f\" % r2)"
      ],
      "metadata": {
        "colab": {
          "base_uri": "https://localhost:8080/"
        },
        "id": "3awilDSp9N6o",
        "outputId": "25db8729-3493-4566-896f-86889ab86f60"
      },
      "execution_count": 48,
      "outputs": [
        {
          "output_type": "stream",
          "name": "stdout",
          "text": [
            "RMSE: 5.215\n",
            "MSE: 27.191\n",
            "MAE: 3.316\n",
            "R2: 0.652\n"
          ]
        }
      ]
    },
    {
      "cell_type": "markdown",
      "source": [
        "# Cross Validation and comparing RMSE value among Linear Regression, Decision Tree Regressor, Random Forest Regressor and GBTRegressor"
      ],
      "metadata": {
        "id": "UvE-g6MOAwsu"
      }
    },
    {
      "cell_type": "code",
      "source": [
        "from pyspark.ml.regression import LinearRegression, DecisionTreeRegressor, RandomForestRegressor, GBTRegressor\n",
        "from pyspark.ml.tuning import CrossValidator, ParamGridBuilder\n",
        "from pyspark.ml.evaluation import RegressionEvaluator\n",
        "\n",
        "# Define the regression models you want to compare\n",
        "models = [\n",
        "    LinearRegression(labelCol=\"medv\", featuresCol=\"features\"),\n",
        "    DecisionTreeRegressor(labelCol=\"medv\", featuresCol=\"features\"),\n",
        "    RandomForestRegressor(labelCol=\"medv\", featuresCol=\"features\"),\n",
        "    GBTRegressor(labelCol=\"medv\", featuresCol=\"features\")  # Add GBTRegressor\n",
        "]\n",
        "\n",
        "# Define the parameter grid for each model\n",
        "param_grids = {\n",
        "    models[0]: ParamGridBuilder().build(),\n",
        "    models[1]: ParamGridBuilder().build(),\n",
        "    models[2]: ParamGridBuilder().build(),\n",
        "    models[3]: ParamGridBuilder().build()  # Add parameter grid for GBTRegressor\n",
        "}\n",
        "\n",
        "# Initialize an empty list to store the results\n",
        "results = []\n",
        "\n",
        "# Loop through each model, perform cross-validation, and record results\n",
        "for model in models:\n",
        "    print(f\"Training {model.__class__.__name__}...\")\n",
        "\n",
        "    # Create a CrossValidator with the current model\n",
        "    crossval = CrossValidator(\n",
        "        estimator=model,\n",
        "        estimatorParamMaps=param_grids[model],\n",
        "        evaluator=RegressionEvaluator(labelCol=\"medv\", predictionCol=\"prediction\", metricName=\"rmse\"),\n",
        "        numFolds=5\n",
        "    )\n",
        "\n",
        "    # Fit the model\n",
        "    cv_model = crossval.fit(train)\n",
        "\n",
        "    # Evaluate the model\n",
        "    predictions = cv_model.transform(test)\n",
        "    rmse = cv_model.avgMetrics[0]  # Get the RMSE from the cross-validation\n",
        "    results.append((model.__class__.__name__, rmse))\n",
        "\n",
        "# Display the model comparison results\n",
        "for model_name, rmse in results:\n",
        "    print(f\"{model_name} RMSE: {rmse:.3f}\")"
      ],
      "metadata": {
        "colab": {
          "base_uri": "https://localhost:8080/"
        },
        "id": "043r19wJCxil",
        "outputId": "c28c2b43-052e-454a-b0ed-99b64c67100c"
      },
      "execution_count": 47,
      "outputs": [
        {
          "output_type": "stream",
          "name": "stdout",
          "text": [
            "Training LinearRegression...\n",
            "Training DecisionTreeRegressor...\n",
            "Training RandomForestRegressor...\n",
            "Training GBTRegressor...\n",
            "LinearRegression RMSE: 4.779\n",
            "DecisionTreeRegressor RMSE: 4.911\n",
            "RandomForestRegressor RMSE: 3.761\n",
            "GBTRegressor RMSE: 4.821\n"
          ]
        }
      ]
    },
    {
      "cell_type": "code",
      "source": [
        "from pyspark.ml.regression import LinearRegression, DecisionTreeRegressor, RandomForestRegressor\n",
        "from pyspark.ml.tuning import CrossValidator, ParamGridBuilder\n",
        "from pyspark.ml.evaluation import RegressionEvaluator\n",
        "\n",
        "# Define the regression models you want to compare\n",
        "models = [\n",
        "    LinearRegression(labelCol=\"medv\", featuresCol=\"features\"),\n",
        "    DecisionTreeRegressor(labelCol=\"medv\", featuresCol=\"features\"),\n",
        "    RandomForestRegressor(labelCol=\"medv\", featuresCol=\"features\")\n",
        "]\n",
        "\n",
        "# Define the parameter grid for each model\n",
        "param_grids = {\n",
        "    models[0]: ParamGridBuilder().build(),\n",
        "    models[1]: ParamGridBuilder().build(),\n",
        "    models[2]: ParamGridBuilder().build()\n",
        "}\n",
        "\n",
        "# Initialize an empty list to store the results\n",
        "results = []\n",
        "\n",
        "# Loop through each model, perform cross-validation, and record results\n",
        "for model in models:\n",
        "    print(f\"Training {model.__class__.__name__}...\")\n",
        "\n",
        "    # Create a CrossValidator with the current model\n",
        "    crossval = CrossValidator(\n",
        "        estimator=model,\n",
        "        estimatorParamMaps=param_grids[model],\n",
        "        evaluator=RegressionEvaluator(labelCol=\"medv\", predictionCol=\"prediction\", metricName=\"rmse\"),\n",
        "        numFolds=5\n",
        "    )\n",
        "\n",
        "    # Fit the model\n",
        "    cv_model = crossval.fit(train)\n",
        "\n",
        "    # Evaluate the model\n",
        "    predictions = cv_model.transform(test)\n",
        "    rmse = cv_model.avgMetrics[0]  # Get the RMSE from the cross-validation\n",
        "    results.append((model.__class__.__name__, rmse))\n",
        "\n",
        "# Display the model comparison results\n",
        "for model_name, rmse in results:\n",
        "    print(f\"{model_name} RMSE: {rmse:.3f}\")\n"
      ],
      "metadata": {
        "colab": {
          "base_uri": "https://localhost:8080/"
        },
        "id": "IJZLbq7MAubZ",
        "outputId": "861213b6-55c4-4e6c-814d-47555c3eb176"
      },
      "execution_count": 46,
      "outputs": [
        {
          "output_type": "stream",
          "name": "stdout",
          "text": [
            "Training LinearRegression...\n",
            "Training DecisionTreeRegressor...\n",
            "Training RandomForestRegressor...\n",
            "LinearRegression RMSE: 4.779\n",
            "DecisionTreeRegressor RMSE: 4.911\n",
            "RandomForestRegressor RMSE: 3.761\n"
          ]
        }
      ]
    },
    {
      "cell_type": "markdown",
      "source": [
        "# Stopping Spark session"
      ],
      "metadata": {
        "id": "ffZaNkxCJuR8"
      }
    },
    {
      "cell_type": "code",
      "source": [
        "spark.stop()"
      ],
      "metadata": {
        "id": "hFgjGmpAJtlX"
      },
      "execution_count": null,
      "outputs": []
    }
  ]
}